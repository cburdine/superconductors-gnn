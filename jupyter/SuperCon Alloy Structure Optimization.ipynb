{
 "cells": [
  {
   "cell_type": "markdown",
   "id": "bdcc2a44",
   "metadata": {
    "slideshow": {
     "slide_type": "slide"
    }
   },
   "source": [
    "# SuperCon Dataset: Estimating Alloy Phase Diagram\n",
    "---\n",
    "\n",
    "This is a notebook documenting my experiments with using the model to generate alloy phase diagrams:\n",
    "\n"
   ]
  },
  {
   "cell_type": "markdown",
   "id": "d09edc76",
   "metadata": {
    "slideshow": {
     "slide_type": "fragment"
    }
   },
   "source": [
    "### Dependencies:\n",
    "\n",
    "To run this notebook you will need to run `pip3 install <dependency>` for all of the packages listed below. These dependencies should be preinstalled in this project's associated Docker container:"
   ]
  },
  {
   "cell_type": "code",
   "execution_count": 1,
   "id": "28e26540",
   "metadata": {
    "slideshow": {
     "slide_type": "fragment"
    }
   },
   "outputs": [],
   "source": [
    "import numpy as np\n",
    "import pandas as pd\n",
    "import matplotlib.pyplot as plt\n",
    "import tqdm\n",
    "import ase\n",
    "import os\n",
    "from glob import glob"
   ]
  },
  {
   "cell_type": "markdown",
   "id": "751eb239",
   "metadata": {
    "slideshow": {
     "slide_type": "slide"
    }
   },
   "source": [
    "### Datasets:\n",
    "Running this notebook requires the metal alloy structure data obtained from the Materials project database (in POSCAR file format). This data can be obtained by running the `./scrape_mp_data.py` script. The directory that this data is scraped into must be configured below:"
   ]
  },
  {
   "cell_type": "code",
   "execution_count": 69,
   "id": "0a37eee0",
   "metadata": {},
   "outputs": [],
   "source": [
    "ALIGNN_ALLOY_DIR = './data/structures/alloys_example'"
   ]
  },
  {
   "cell_type": "markdown",
   "id": "aad280bd",
   "metadata": {},
   "source": [
    "Configure the path to the pretrained ALIGNN model:"
   ]
  },
  {
   "cell_type": "code",
   "execution_count": 70,
   "id": "144cd264",
   "metadata": {},
   "outputs": [],
   "source": [
    "ALIGNN_TC_MODEL = './pretrained_model/checkpoint_80.pt'\n",
    "ALIGNN_TC_MODEL_CONFIG = './pretrained_model/config.json'"
   ]
  },
  {
   "cell_type": "markdown",
   "id": "7824ed7c",
   "metadata": {},
   "source": [
    "This notebook also requires periodic table data, which can be downloaded below:\n",
    "\n",
    "* [Periodic Table of Elements (CSV)](https://gist.github.com/GoodmanSciences/c2dd862cd38f21b0ad36b8f96b4bf1ee)"
   ]
  },
  {
   "cell_type": "code",
   "execution_count": 71,
   "id": "5cdc2831",
   "metadata": {},
   "outputs": [],
   "source": [
    "PTABLE_CSV = 'data/periodictable/PeriodicTable.csv'"
   ]
  },
  {
   "cell_type": "markdown",
   "id": "c4f57fc9",
   "metadata": {},
   "source": [
    "## Parse Structure Data"
   ]
  },
  {
   "cell_type": "code",
   "execution_count": 72,
   "id": "19f23afa",
   "metadata": {},
   "outputs": [],
   "source": [
    "import re\n",
    "\n",
    "def build_formula_regex(elements):\n",
    "    \"\"\" builds a formula parsing regex \"\"\"\n",
    "    mass_re = '([0-9]*\\.[0-9]+|[0-9]+)'\n",
    "    elem_re = '(' + '|'.join(elements) + ')'\n",
    "    return re.compile(elem_re + mass_re)\n",
    "\n",
    "def parse_formula_tokens(formula, regex):\n",
    "    \"\"\" parses a checmical formula consisting of <elem><mass> pairs\"\"\"\n",
    "    tokens = []\n",
    "    for match in regex.finditer(formula):\n",
    "        if match.group(1):\n",
    "            tokens.append((match.group(1), float(match.group(2))))\n",
    "        else:\n",
    "            # assume 1.0 if no mass term:\n",
    "            tokens.append((match.group(1), 1.0))\n",
    "    return tokens\n",
    "\n",
    "def formula_from_tokens(tokens):\n",
    "    \"\"\" Constructs a canonical formula from element tokens\"\"\"\n",
    "    tokens = sorted(tokens)\n",
    "    formula = ''\n",
    "    for elem, n in tokens:\n",
    "        formula += str(elem)\n",
    "        if (n != 1):\n",
    "            formula += str(n)\n",
    "    return formula"
   ]
  },
  {
   "cell_type": "code",
   "execution_count": 73,
   "id": "bee3237e",
   "metadata": {},
   "outputs": [],
   "source": [
    "ptable_df = pd.read_csv(PTABLE_CSV)\n",
    "elements = list(set(ptable_df['Symbol']))\n",
    "form_re = build_formula_regex(elements)"
   ]
  },
  {
   "cell_type": "markdown",
   "id": "7e920f67",
   "metadata": {},
   "source": [
    "## Use ALIGNN model to predict alloy phase diagram:"
   ]
  },
  {
   "cell_type": "code",
   "execution_count": 74,
   "id": "6549af69",
   "metadata": {},
   "outputs": [],
   "source": [
    "from alignn.models.alignn import ALIGNN, ALIGNNConfig\n",
    "from jarvis.core.atoms import Atoms\n",
    "from alignn.graphs import Graph\n",
    "import torch\n",
    "import json\n",
    "\n",
    "def load_model(path, config_path=None):\n",
    "    device = \"cpu\"\n",
    "    if torch.cuda.is_available():\n",
    "        device = torch.device(\"cuda\")\n",
    "    if config_path:\n",
    "        with open(config_path, 'r') as f:\n",
    "            model_config = json.load(f)\n",
    "        model = ALIGNN(ALIGNNConfig(**model_config['model']))\n",
    "    else:\n",
    "        model = ALIGNN(ALIGNNConfig(name=\"alignn\", output_features=1))\n",
    "    model.load_state_dict(torch.load(path, map_location=device)[\"model\"])\n",
    "    model.eval()\n",
    "    \n",
    "    return model\n",
    "\n",
    "def model_serve(model, poscar_file):\n",
    "\n",
    "    cutoff = 8.0\n",
    "    max_neighbors = 12\n",
    "    device = \"cpu\"\n",
    "    if torch.cuda.is_available():\n",
    "        device = torch.device(\"cuda\")\n",
    "    \n",
    "    atoms = Atoms.from_poscar(poscar_file)\n",
    "    g, lg = Graph.atom_dgl_multigraph(\n",
    "        atoms, cutoff=float(cutoff), max_neighbors=max_neighbors,\n",
    "    )\n",
    "    out_data = (\n",
    "        model([g.to(device), lg.to(device)])\n",
    "        .detach()\n",
    "        .cpu()\n",
    "        .numpy()\n",
    "        .flatten()\n",
    "        .tolist()\n",
    "    )\n",
    "    return out_data[0]\n",
    "\n"
   ]
  },
  {
   "cell_type": "code",
   "execution_count": 75,
   "id": "2ae815dc",
   "metadata": {},
   "outputs": [],
   "source": [
    "alloy_files = glob(os.path.join(ALIGNN_ALLOY_DIR, '*.poscar'))\n",
    "\n",
    "# build alloy map:\n",
    "alloy_map = {}\n",
    "for file in alloy_files:\n",
    "    filename = os.path.split(file)[1]\n",
    "    formula = os.path.splitext(filename)[0]\n",
    "    tokens = parse_formula_tokens(formula, form_re)\n",
    "    elems = tuple(sorted([ t[0] for t in tokens ]))\n",
    "    if elems not in alloy_map:\n",
    "        alloy_map[elems] = []\n",
    "    alloy_map[elems].append((tokens, file))"
   ]
  },
  {
   "cell_type": "code",
   "execution_count": 76,
   "id": "04628535",
   "metadata": {
    "scrolled": true
   },
   "outputs": [
    {
     "name": "stderr",
     "output_type": "stream",
     "text": [
      "/media/colin/Shared/colin/git/superconductors-gnn/env/lib/python3.10/site-packages/alignn/graphs.py:237: UserWarning: Creating a tensor from a list of numpy.ndarrays is extremely slow. Please consider converting the list to a single numpy.ndarray with numpy.array() before converting to a tensor. (Triggered internally at  ../torch/csrc/utils/tensor_new.cpp:204.)\n",
      "  g.ndata[\"lattice_mat\"] = torch.tensor(\n"
     ]
    },
    {
     "name": "stdout",
     "output_type": "stream",
     "text": [
      "./data/structures/alloys_example/Nb0.1Ge0.9.poscar 2.6030149459838867\n",
      "./data/structures/alloys_example/Nb0.2Ge0.8.poscar 2.300323486328125\n",
      "./data/structures/alloys_example/Nb0.3Ge0.7.poscar 2.097919225692749\n",
      "./data/structures/alloys_example/Nb0.4Ge0.6.poscar 3.1843881607055664\n",
      "./data/structures/alloys_example/Nb0.5Ge0.5.poscar 5.492405414581299\n",
      "./data/structures/alloys_example/Nb0.6Ge0.4.poscar 5.492404937744141\n",
      "./data/structures/alloys_example/Nb0.7Ge0.3.poscar 5.685431957244873\n",
      "./data/structures/alloys_example/Nb0.8Ge0.2.poscar 3.9147229194641113\n",
      "./data/structures/alloys_example/Nb0.9Ge0.1.poscar 2.2320809364318848\n",
      "./data/structures/alloys_example/Nb1.poscar 9.131183624267578\n",
      "./data/structures/alloys_example/Ge1.poscar 2.960843563079834\n"
     ]
    }
   ],
   "source": [
    "BINARY_ALLOY = ('Nb', 'Ge')\n",
    "\n",
    "alignn_model = load_model(ALIGNN_TC_MODEL, config_path=ALIGNN_TC_MODEL_CONFIG)\n",
    "\n",
    "alloy_key = tuple(sorted(BINARY_ALLOY))\n",
    "tc_phases = []\n",
    "\n",
    "# query model with intermediate compounds/alloys:\n",
    "for tokens, alloy_file in alloy_map[alloy_key]:\n",
    "    pred_tc = model_serve(alignn_model, alloy_file)\n",
    "    tc_phases.append((tokens, pred_tc))\n",
    "    print(alloy_file, pred_tc)\n",
    "\n",
    "# also query elemental \"endpoints\" of the phase space:\n",
    "for elem in BINARY_ALLOY:\n",
    "    elems_key = (elem,)\n",
    "    if elems_key in alloy_map:\n",
    "        tokens, alloy_file = alloy_map[elems_key][-1]\n",
    "        pred_tc = model_serve(alignn_model, alloy_file)\n",
    "        tc_phases.append((tokens, pred_tc))\n",
    "        print(alloy_file, pred_tc)"
   ]
  },
  {
   "cell_type": "code",
   "execution_count": 77,
   "id": "af3584f2",
   "metadata": {},
   "outputs": [
    {
     "data": {
      "image/png": "[encoded data removed]",
      "text/plain": [
       "<Figure size 640x480 with 1 Axes>"
      ]
     },
     "metadata": {},
     "output_type": "display_data"
    }
   ],
   "source": [
    "tcs = []\n",
    "vecs = []\n",
    "\n",
    "for (tokens, tc) in sorted(tc_phases):\n",
    "    composition = { e : n for (e,n) in tokens }\n",
    "    vector = np.array([ \n",
    "        composition[e] if e in composition else 0.0\n",
    "        for e in BINARY_ALLOY \n",
    "    ]) / np.sum(list(composition.values()))\n",
    "    \n",
    "    tcs.append(tc)\n",
    "    vecs.append(vector)\n",
    "\n",
    "x0 = np.array([[0.],[1.]])\n",
    "x = np.array([ v @ x0 for v in vecs ])\n",
    "\n",
    "plt.ylabel(r'$T_c$', fontsize=12)\n",
    "plt.xlabel(r'$x$', fontsize=12)\n",
    "plt.title(r'Nb$_x$Ge$_{1-x}$ $T_c$ under doping')\n",
    "plt.fill_between(x.flatten(), tcs)\n",
    "plt.show()\n"
   ]
  },
  {
   "cell_type": "code",
   "execution_count": null,
   "id": "d744a7ed",
   "metadata": {},
   "outputs": [],
   "source": []
  }
 ],
 "metadata": {
  "kernelspec": {
   "display_name": "Python 3 (ipykernel)",
   "language": "python",
   "name": "python3"
  },
  "language_info": {
   "codemirror_mode": {
    "name": "ipython",
    "version": 3
   },
   "file_extension": ".py",
   "mimetype": "text/x-python",
   "name": "python",
   "nbconvert_exporter": "python",
   "pygments_lexer": "ipython3",
   "version": "3.10.6"
  }
 },
 "nbformat": 4,
 "nbformat_minor": 5
}
